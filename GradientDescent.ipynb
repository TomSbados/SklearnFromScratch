{
 "cells": [
  {
   "cell_type": "code",
   "execution_count": 327,
   "id": "7c34ca04-21b2-4fee-a823-74d1083fe7e1",
   "metadata": {},
   "outputs": [],
   "source": [
    "import numpy as np\n",
    "from sklearn import datasets\n",
    "from sklearn.model_selection import train_test_split\n",
    "\n",
    "class Regression:\n",
    "    def __init__(self, weights=None, bias=None, lr=0.001, epochs=1000):\n",
    "        self.weights = weights\n",
    "        self.bias = bias\n",
    "        self.epochs = epochs\n",
    "        self.lr = lr\n",
    "\n",
    "    \n",
    "    \n",
    "    def fit_logistic(self, X, y):\n",
    "        n_samples, n_features = X.shape\n",
    "\n",
    "        self.weights = np.zeros(n_features)\n",
    "        self.bias = 0\n",
    "\n",
    "        def sigmoid(x):\n",
    "            x = np.clip(x, -500, 500)\n",
    "            return 1 / (1 + np.exp(-x))\n",
    "\n",
    "\n",
    "        for _ in range(self.epochs):\n",
    "            preds = np.dot(X, self.weights) + self.bias\n",
    "            preds = sigmoid(preds)\n",
    "\n",
    "            dw = (2/n_samples) * np.dot((preds - y), X)\n",
    "            db = (2/n_samples) * np.sum(preds - y)\n",
    "\n",
    "            self.weights -= dw * self.lr\n",
    "            self.bias -= db * self.lr\n",
    "\n",
    "        return self.weights, self.bias\n",
    "\n",
    "    def predict_logistic(self, X, decision_boundary=0.5):\n",
    "        def sigmoid(x):\n",
    "            x = np.clip(x, -500, 500)\n",
    "            return 1 / (1 + np.exp(-x))\n",
    "        \n",
    "        preds = sigmoid(np.dot(X, self.weights) + self.bias)\n",
    "        return np.array([0 if x < decision_boundary else 1 for x in preds])\n",
    "    \n",
    "    \n",
    "    \n",
    "    def fit_regression(self, X, y):\n",
    "        n_samples, n_features = X.shape\n",
    "        self.weights = np.zeros(n_features)\n",
    "        self.bias = 0\n",
    "\n",
    "        for _ in range(self.epochs):\n",
    "            \n",
    "            preds = np.dot(X, self.weights) + self.bias\n",
    "            \n",
    "            dw = (2/n_samples) * np.dot((preds - y), X)\n",
    "            db = (2/n_samples) * np.sum(preds - y)\n",
    "\n",
    "            self.weights -= dw * self.lr\n",
    "            self.bias -= db * self.lr\n",
    "\n",
    "        return self.weights, self.bias\n",
    "\n",
    "    def predict_regression(self, X):\n",
    "        return np.dot(X, self.weights) + self.bias\n",
    "\n",
    "    def reg_score(self, preds, y):\n",
    "        return np.sum(preds - y)**2\n",
    "\n",
    "            \n",
    "\n",
    "        "
   ]
  },
  {
   "cell_type": "code",
   "execution_count": 329,
   "id": "cf155ba8-b1b9-4c35-bf0a-55f9b1918320",
   "metadata": {},
   "outputs": [],
   "source": [
    "X, y = datasets.make_regression(n_samples=100, n_features=1, noise=10, random_state=1337)\n",
    "X_train, X_test, y_train, y_test = train_test_split(X, y, test_size=0.1)"
   ]
  },
  {
   "cell_type": "code",
   "execution_count": 331,
   "id": "6829e507-f103-49ec-999b-d7d56938cdf2",
   "metadata": {},
   "outputs": [
    {
     "data": {
      "text/plain": [
       "(array([36.99465689]), 0.4012449790905372)"
      ]
     },
     "execution_count": 331,
     "metadata": {},
     "output_type": "execute_result"
    }
   ],
   "source": [
    "reg = Regression(epochs=1000)\n",
    "reg.fit_regression(X_train, y_train)"
   ]
  },
  {
   "cell_type": "code",
   "execution_count": 333,
   "id": "6f4eb78f-d929-43f3-9153-f797514e893a",
   "metadata": {},
   "outputs": [],
   "source": [
    "preds = reg.predict_regression(X_test)"
   ]
  },
  {
   "cell_type": "code",
   "execution_count": 335,
   "id": "1608a83d-e42a-4899-8917-d053890c0f21",
   "metadata": {},
   "outputs": [
    {
     "data": {
      "text/plain": [
       "13.991918051682964"
      ]
     },
     "execution_count": 335,
     "metadata": {},
     "output_type": "execute_result"
    }
   ],
   "source": [
    "reg.reg_score(preds, y_test)"
   ]
  },
  {
   "cell_type": "code",
   "execution_count": 337,
   "id": "d15c44c2-1c96-4448-9d4a-959e456720e7",
   "metadata": {},
   "outputs": [],
   "source": [
    "import matplotlib.pyplot as plt"
   ]
  },
  {
   "cell_type": "code",
   "execution_count": 339,
   "id": "6f000fbf-7582-411b-9064-84fd4ae797b0",
   "metadata": {},
   "outputs": [
    {
     "data": {
      "text/plain": [
       "[<matplotlib.lines.Line2D at 0x30891c1d0>]"
      ]
     },
     "execution_count": 339,
     "metadata": {},
     "output_type": "execute_result"
    },
    {
     "data": {
      "image/png": "[encoded data removed]",
      "text/plain": [
       "<Figure size 640x480 with 1 Axes>"
      ]
     },
     "metadata": {},
     "output_type": "display_data"
    }
   ],
   "source": [
    "plt.scatter(X,y)\n",
    "plt.plot(X, reg.predict_regression(X), c='red')"
   ]
  },
  {
   "cell_type": "code",
   "execution_count": 341,
   "id": "23091469-97f3-4a1f-8cac-18cf48ad05e5",
   "metadata": {},
   "outputs": [],
   "source": [
    "bc = datasets.load_breast_cancer()\n",
    "X, y = bc.data, bc.target\n",
    "X_train, X_test, y_train, y_test = train_test_split(X, y, test_size=0.2, random_state=1337)"
   ]
  },
  {
   "cell_type": "code",
   "execution_count": 343,
   "id": "fb36f913-dfcc-4fb0-8a72-3935fe686fb7",
   "metadata": {},
   "outputs": [
    {
     "data": {
      "text/plain": [
       "(array([ 5.31917443e-01,  6.77234976e-01,  3.04775840e+00,  1.60786419e+00,\n",
       "         4.66600495e-03, -3.20041616e-03, -1.14905904e-02, -4.86227385e-03,\n",
       "         9.02566394e-03,  3.89471306e-03,  2.91616764e-03,  4.01291148e-02,\n",
       "        -1.12616644e-02, -1.23303073e+00,  2.20629730e-04, -1.14059418e-03,\n",
       "        -1.92011096e-03, -3.03623652e-04,  6.60848994e-04, -7.84843655e-06,\n",
       "         5.62813973e-01,  8.40314744e-01,  3.03946896e+00, -2.07555847e+00,\n",
       "         5.78095876e-03, -1.20021067e-02, -2.48432760e-02, -5.82171717e-03,\n",
       "         1.23153893e-02,  3.53236662e-03]),\n",
       " 0.07060855162752877)"
      ]
     },
     "execution_count": 343,
     "metadata": {},
     "output_type": "execute_result"
    }
   ],
   "source": [
    "reg.fit_logistic(X_train, y_train)"
   ]
  },
  {
   "cell_type": "code",
   "execution_count": 344,
   "id": "24c9f447-92b7-45f6-83f9-d84d4bfdb5ae",
   "metadata": {},
   "outputs": [],
   "source": [
    "preds = reg.predict_logistic(X_test)"
   ]
  },
  {
   "cell_type": "code",
   "execution_count": 345,
   "id": "671abd3d-aeb2-4917-9ca4-c743e1a31508",
   "metadata": {},
   "outputs": [],
   "source": [
    "from sklearn.metrics import classification_report"
   ]
  },
  {
   "cell_type": "code",
   "execution_count": 349,
   "id": "bd777a9f-6a3d-465f-8ba3-4dd0ce7a0239",
   "metadata": {},
   "outputs": [
    {
     "name": "stdout",
     "output_type": "stream",
     "text": [
      "              precision    recall  f1-score   support\n",
      "\n",
      "           0       0.93      0.83      0.87        46\n",
      "           1       0.89      0.96      0.92        68\n",
      "\n",
      "    accuracy                           0.90       114\n",
      "   macro avg       0.91      0.89      0.90       114\n",
      "weighted avg       0.91      0.90      0.90       114\n",
      "\n"
     ]
    }
   ],
   "source": [
    "print(classification_report(preds, y_test))"
   ]
  }
 ],
 "metadata": {
  "kernelspec": {
   "display_name": "Python 3 (ipykernel)",
   "language": "python",
   "name": "python3"
  },
  "language_info": {
   "codemirror_mode": {
    "name": "ipython",
    "version": 3
   },
   "file_extension": ".py",
   "mimetype": "text/x-python",
   "name": "python",
   "nbconvert_exporter": "python",
   "pygments_lexer": "ipython3",
   "version": "3.12.4"
  }
 },
 "nbformat": 4,
 "nbformat_minor": 5
}
